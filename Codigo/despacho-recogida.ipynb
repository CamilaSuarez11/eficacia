{
 "cells": [
  {
   "cell_type": "markdown",
   "metadata": {},
   "source": [
    "# Apertura del archivo \"Plantilla Real a Liquidar Transporte\" creación del dataframe \"FLETES\"y su depuración"
   ]
  },
  {
   "cell_type": "code",
   "execution_count": null,
   "metadata": {},
   "outputs": [],
   "source": [
    "# importarción de librerias que se van a utilizar.\n",
    "import pandas as pd\n",
    "import numpy as np\n",
    "\n",
    "# definición del path del archivo y la hoja la cual se va a traer y depurar.\n",
    "str_ruta = r'C:\\Users\\RentAdvisor\\Bot2-Eficacia\\Archivos Base\\PLANTILLA REAL A LIQUIDAR  TRANSPORTES FINAL.xlsx'\n",
    "str_nombre_hoja = 'FLETES'\n",
    "\n",
    "# creación del dataframe de la hoja \"FLETES\"\n",
    "df_fletes = pd.read_excel(str_ruta, sheet_name=str_nombre_hoja)\n",
    "\n",
    "# Depuración de las columnas para eliminar valores invalidos\n",
    "columnas_tipo_texto = ['punto', 'tipo_despacho', 'pedido', 'identificacion', 'contacto', 'nombre_completo', 'nombre_ciudad', 'codigo_flete', 'usuario_pedido', 'dato_adicional_pedido', 'articulos', 'documentos1', 'documentos2', 'tipo_ubicacion', 'placa', 'nombre_conductor', 'transportador', 'nombre_transportador', 'clasificador1', 'soporte', 'proveedor', 'usuario_insercion', 'CONCATENAR PESO,PROVEEDOR ', 'CIUDA', 'DEPARTAMENTO', 'PUNTO ORIGEN ', 'RANGO VOLUMEN', 'RANGOPESO ', 'PESO COTIZADO ', 'VOLUMEN COTIZADO ']\n",
    "columnas_tipo_numero = ['entrega', 'despacho', 'salida', 'codigo', 'departamento', 'ciudad', 'ruta_terrestre', 'total_peso', 'total_volumen', 'peso_cotizado', 'volumen_cotizado', 'cajas_cotizado', 'valor_mercancia', 'tiempo_real', 'demora', 'numero_guia']\n",
    "\n",
    "for columna in columnas_tipo_texto:\n",
    "    df_fletes[columna] = df_fletes[columna].fillna(\"\")\n",
    "\n",
    "for columna in columnas_tipo_numero:\n",
    "    df_fletes[columna] = pd.to_numeric(df_fletes[columna], errors='coerce').replace(np.nan, 0, regex=True)\n",
    "\n",
    "# Creación de nueva columna y conversión de la columna de \"fecha_entrega\" con formato fecha con hora a nueva columna \"fecha_entrega_dia\" con formato año-mes-día\n",
    "df_fletes['fecha_entrega_dia'] = df_fletes['fecha_entrega'].dt.date\n",
    "\n",
    "# Creación de nuevas columnas necesarias dentro del dataframe\n",
    "df_fletes['tipo']=\"\"\n",
    "df_fletes['tipo_ruta']=\"\"\n",
    "df_fletes['validacion_24h']=\"\"\n",
    "df_fletes['valor_bot']=\"\"\n",
    "df_fletes['valor_original_bot']=\"\""
   ]
  },
  {
   "cell_type": "markdown",
   "metadata": {},
   "source": [
    "# Creación de dataframes con valores estandares"
   ]
  },
  {
   "cell_type": "code",
   "execution_count": null,
   "metadata": {},
   "outputs": [],
   "source": [
    "# definición de las hojas que serán traidas.\n",
    "str_nombre_hoja2 = 'TIPO RUTA'\n",
    "str_nombre_hoja3 = 'TARIFA CLIENTE'\n",
    "str_nombre_hoja4 = 'TARIFA PROVEEDOR'\n",
    "str_nombre_hoja5 = 'TARIFA P y V'\n",
    "str_nombre_hoja6 = 'CODIGO FLETE'\n",
    "\n",
    "# creación de los dataframes con valores estandarizados que serán necesarios.\n",
    "df_tipo_ruta = pd.read_excel(str_ruta, sheet_name=str_nombre_hoja2)\n",
    "df_tarifa_cliente = pd.read_excel(str_ruta, sheet_name=str_nombre_hoja3)\n",
    "df_tarifa_proveedor = pd.read_excel(str_ruta, sheet_name=str_nombre_hoja4)\n",
    "df_tarifa_pv = pd.read_excel(str_ruta, sheet_name=str_nombre_hoja5)\n",
    "df_codigo_flete = pd.read_excel(str_ruta, sheet_name=str_nombre_hoja6)"
   ]
  },
  {
   "cell_type": "markdown",
   "metadata": {},
   "source": [
    "# Asignación de tipo de ruta a la columna \"tipo_ruta\""
   ]
  },
  {
   "cell_type": "code",
   "execution_count": null,
   "metadata": {},
   "outputs": [],
   "source": [
    "# Definición de todos las filas con la palabra \"PERIFERIA\"\n",
    "df_fletes['tipo_ruta'] = 'PERIFERIA'\n",
    "\n",
    "# Iteración a través de las filas del dataframe df_fletes y comparación con el dataframe df_tipo_ruta\n",
    "for i, fila in df_fletes.iterrows():\n",
    "    punto = fila['punto']\n",
    "    ciudad = fila['nombre_ciudad']\n",
    "    \n",
    "    # Verificación de coincidencias en df_tipo_ruta y asignación de la palabra \"LOCAL\" en las filas necesarias\n",
    "    if any((df_tipo_ruta['CEDIS'] == punto) & (df_tipo_ruta['CIUDAD'] == ciudad)):\n",
    "        df_fletes.at[i, 'tipo_ruta'] = 'LOCAL'"
   ]
  },
  {
   "cell_type": "markdown",
   "metadata": {},
   "source": [
    "# Agrupación de datos para rutas locales de tipo despacho y recogida"
   ]
  },
  {
   "cell_type": "code",
   "execution_count": null,
   "metadata": {},
   "outputs": [],
   "source": [
    "# Creación de grupos por respectivos filtros para despachos y recogidas\n",
    "filtro = (df_fletes['tipo_ruta'] == 'LOCAL') & ((df_fletes['tipo_despacho'] == 'DESPACHO') | (df_fletes['tipo_despacho'] == 'RECOGIDA'))\n",
    "df_dr_locales = df_fletes[filtro].groupby(['punto', 'fecha_entrega', 'proveedor', 'identificacion'])\n",
    "\n",
    "\n",
    "# Tipos de despachos que hay por cada una de las agrupaciones\n",
    "valores_unicos_despachos = df_dr_locales['tipo_despacho'].apply(lambda x: x.unique())\n",
    "\n",
    "############ Descomentar si se desea ver los grupos ################\n",
    "\"\"\"for indice, datos in df_grupo_locales:\n",
    "  print(\"....indice={}\".format(indice))\n",
    "  print(\"--------datos-------\")\n",
    "  print(datos)\"\"\"\n"
   ]
  },
  {
   "cell_type": "markdown",
   "metadata": {},
   "source": [
    "# Clasificación de cada grupo por tipo de despacho"
   ]
  },
  {
   "cell_type": "code",
   "execution_count": null,
   "metadata": {},
   "outputs": [],
   "source": [
    "# Conversión de los tipos de despacho por grupo a un dataframe para su mejor manipulación\n",
    "df_tipo_liquidar = valores_unicos_despachos.to_frame(name='tipo')\n",
    "\n",
    "# Creación de nueva columna dentro del dataframe df_tipo_grupo_ruta\n",
    "df_tipo_liquidar[\"tipo_grupo_ruta\"] = \"\"\n",
    "df_tipo_liquidar[\"numero_despachos\"] = \"\"\n",
    "df_tipo_liquidar[\"transportador\"] = \"\"\n",
    "df_tipo_liquidar['codigos_flete'] = \"\"\n",
    "\n",
    "# Función para clasasificar los grupos por tipos de despacho\n",
    "def asignar_valor(row):\n",
    "    if set(row['tipo']) == set(['DESPACHO']):\n",
    "        return 1\n",
    "    elif set(row['tipo']) == set(['RECOGIDA']):\n",
    "        return 2\n",
    "    elif set(row['tipo']) == set(['RECOGIDA','DESPACHO']):\n",
    "        return 3\n",
    "    else:\n",
    "        return 0\n",
    "\n",
    "# Asignación de la clasificación a la columna \"tipo_grupo_ruta\" dentro del dataframe df_tipo_grupo_ruta \n",
    "df_tipo_liquidar['tipo_grupo_ruta'] = df_tipo_liquidar.apply(asignar_valor, axis=1)\n"
   ]
  },
  {
   "cell_type": "code",
   "execution_count": null,
   "metadata": {},
   "outputs": [],
   "source": [
    "# Conteo de despachos por agrupación\n",
    "conteo_despacho = df_dr_locales['despacho'].agg(lambda x: x.nunique())\n",
    "conteo_a_lista = conteo_despacho.tolist()\n",
    "\n",
    "# Asignación de conteo a DataFrame \"df_tipo_grupo_ruta\"\n",
    "df_tipo_liquidar['numero_despachos'] = conteo_a_lista\n",
    "\n",
    "# Valor de transportador por despacho\n",
    "valores_transportador = df_dr_locales['transportador'].apply(lambda x: x.unique())\n",
    "valores_a_lista = valores_transportador.tolist()\n",
    "\n",
    "# Asignación de valores a DataFrame \"df_tipo_grupo_ruta\"\n",
    "df_tipo_liquidar['transportador'] = valores_a_lista\n",
    "\n",
    "# Valores de código de flete por despacho cada despacho\n",
    "valores_codigo_flete = df_dr_locales['codigo_flete'].apply(lambda x: x.unique())\n",
    "valores_codigo_a_lista = valores_codigo_flete.tolist()\n",
    "\n",
    "# Asignación de valores a DataFrame \"df_tipo_grupo_ruta\"\n",
    "df_tipo_liquidar['codigos_flete'] = valores_codigo_a_lista\n"
   ]
  },
  {
   "cell_type": "code",
   "execution_count": null,
   "metadata": {},
   "outputs": [],
   "source": [
    "\n",
    "# Detectar campos en blanco (NaN) en la columna \"codigo_flete\"\n",
    "campos_en_blanco = df_codigo_flete['codigo_flete'].isna() \n",
    "\n",
    "# Verifica si el valor de \"codigo_flete\" es \"LOCAL\" o en blanco (NaN)\n",
    "expected = (df_codigo_flete['codigo_flete'].isna()) | (df_codigo_flete['codigo_flete'] == \"LOCAL\")\n",
    "\n",
    "# Imprimir información sobre campos en blanco en la columna \"codigo_flete\"\n",
    "print(\"Campos en blanco en la columna 'codigo_flete':\")\n",
    "\n",
    "# Rellena los campos en blanco con \"Sin valor\" solo si la condición se cumple\n",
    "df_codigo_flete.loc[expected, 'codigo_flete'] = \"Sin valor\"\n",
    "\n",
    "# Imprimir el DataFrame \n",
    "print(df_codigo_flete)\n"
   ]
  },
  {
   "cell_type": "markdown",
   "metadata": {},
   "source": [
    "# Copiar y mover los valores de \"valor\" y \"valor_original\" a las nuevas columnas"
   ]
  },
  {
   "cell_type": "code",
   "execution_count": null,
   "metadata": {},
   "outputs": [],
   "source": [
    "# Copia los valores solo si el valor en la columna \"codigo_flete\" es \"Local\"\n",
    "df_fletes['valor_bot'] = df_fletes.apply(lambda row: row['valor'] if row['codigo_flete'] == \"LOCAL\" else None, axis=1)\n",
    "df_fletes['valor_original_bot'] = df_fletes.apply(lambda row: row['valor_original'] if row['codigo_flete'] == \"LOCAL\" else None, axis=1)\n",
    "\n",
    "# Comparar los valores de las dos columnas\n",
    "changed_valor_bot = df_fletes[df_fletes['valor'] != df_fletes['valor_bot']]\n",
    "changed_valor_original_bot = df_fletes[df_fletes['valor_original'] != df_fletes['valor_original_bot']]\n",
    "\n",
    "# Imprimir el DataFrame \n",
    "print(\"Changes in 'valor_bot' column:\")\n",
    "print(changed_valor_bot[['valor', 'valor_bot']])\n",
    "\n",
    "print(\"Changes in 'valor_original_bot' column:\")\n",
    "print(changed_valor_original_bot[['valor_original', 'valor_original_bot']])"
   ]
  },
  {
   "cell_type": "code",
   "execution_count": null,
   "metadata": {},
   "outputs": [],
   "source": [
    "\n",
    "import pandas as pd\n",
    "import numpy as np\n",
    "\n",
    "# Data de muestra\n",
    "data = {\n",
    "    'codigos_flete': ['LOCAL', 'TCOD', 'LOCAL', 'MASIVO', 'TCOD'],\n",
    "    'tipo_grupo_ruta': [1, 2, 1, 2, 1],\n",
    "    'valor': [100, 200, 150, 300, 120]\n",
    "}\n",
    "\n",
    "# Marco de data de muestra \n",
    "df_tipo_liquidar = pd.DataFrame(data)\n",
    "\n",
    "# Definir variable numero_despachos(modificar a la actual)\n",
    "numero_despachos = 10  \n",
    "\n",
    "# Definir la función calcular_prueba_funcion\n",
    "def calcular_prueba_funcion(row):\n",
    "    codigos_flete = row[\"codigos_flete\"]\n",
    "    tipo_grupo_ruta = row[\"tipo_grupo_ruta\"]\n",
    "    valor_cliente = row['valor']\n",
    "\n",
    "# Comprobar si codigos_flete es un ndarray 1D y contiene un solo valor, que sea 'LOCAL'\n",
    "    if isinstance(codigos_flete, np.ndarray) and len(codigos_flete) == 1 and 'LOCAL' in codigos_flete:\n",
    "        if tipo_grupo_ruta in [1, 2]:\n",
    "            return round(valor_cliente / numero_despachos)\n",
    "        else:\n",
    "            return 0\n",
    "    elif 'TCOD' in codigos_flete:\n",
    "        return valor_cliente\n",
    "    elif 'MASIVO' in codigos_flete:\n",
    "        return 0\n",
    "    else:\n",
    "        return None\n",
    "\n",
    "# Aplicar la función a cada fila del DataFrame y crear una nueva columna \"resultado\"\n",
    "df_tipo_liquidar['resultado'] = df_tipo_liquidar.apply(calcular_prueba_funcion, axis=1)\n",
    "\n",
    "# Imprime el DataFrame resultante con la columna \"resultado\"\n",
    "print(df_tipo_liquidar)\n",
    "\n"
   ]
  },
  {
   "cell_type": "code",
   "execution_count": null,
   "metadata": {},
   "outputs": [],
   "source": [
    "#Validacion de \"valor_bot\"\n",
    "df_fletes['valor_bot'] = df_fletes.apply(lambda row: \"NO_OFRECIDO\" if row['codigo_flete'] == \"NO_OFREC\" else row['valor'], axis=1)\n",
    "\n",
    "#Vañidacion de \"valor_original_bot\"\n",
    "df_fletes['valor_original_bot'] = df_fletes.apply(lambda row: \"NO_OFRECIDO\" if row['codigo_flete'] == \"NO_OFREC\" else row['valor_original'], axis=1)\n",
    "\n",
    "print(df_fletes)"
   ]
  },
  {
   "cell_type": "code",
   "execution_count": null,
   "metadata": {},
   "outputs": [],
   "source": [
    "\n",
    "# Verifica si la columna \"ruta_terrestre\" no está en blanco (no es NaN)\n",
    "condicion = ~df_tipo_liquidar['ruta_terrestre'].isna()\n",
    "\n",
    "# Asigna el valor a \"valor_bot\" y \"valor_original_bot\" solo en la fila donde la condición se cumple\n",
    "df_tipo_liquidar.loc[condicion, ['valor_bot', 'valor_original_bot']] = df_tipo_liquidar['valor']\n",
    "\n",
    "# Imprimir el DataFrame actualizado\n",
    "print(df_tipo_liquidar)\n"
   ]
  }
 ],
 "metadata": {
  "kernelspec": {
   "display_name": "Python 3",
   "language": "python",
   "name": "python3"
  },
  "language_info": {
   "codemirror_mode": {
    "name": "ipython",
    "version": 3
   },
   "file_extension": ".py",
   "mimetype": "text/x-python",
   "name": "python",
   "nbconvert_exporter": "python",
   "pygments_lexer": "ipython3",
   "version": "3.11.2"
  }
 },
 "nbformat": 4,
 "nbformat_minor": 2
}
